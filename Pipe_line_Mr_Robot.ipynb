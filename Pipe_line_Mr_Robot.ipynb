{
 "cells": [
  {
   "cell_type": "code",
   "execution_count": 231,
   "metadata": {},
   "outputs": [],
   "source": [
    "from pymongo import MongoClient\n",
    "import json\n",
    "import pandas as pd"
   ]
  },
  {
   "cell_type": "code",
   "execution_count": 3,
   "metadata": {},
   "outputs": [],
   "source": [
    "client = MongoClient('mongodb://localhost:27017')"
   ]
  },
  {
   "cell_type": "code",
   "execution_count": 302,
   "metadata": {},
   "outputs": [
    {
     "data": {
      "text/plain": [
       "25"
      ]
     },
     "execution_count": 302,
     "metadata": {},
     "output_type": "execute_result"
    }
   ],
   "source": [
    "db = client['mini_clara']\n",
    "collection = db['mensagens']\n",
    "\n",
    "dados = []\n",
    "\n",
    "for i in collection.find({}):\n",
    "    dados.append(i)\n",
    "\n",
    "len(dados)\n"
   ]
  },
  {
   "cell_type": "code",
   "execution_count": 303,
   "metadata": {},
   "outputs": [
    {
     "data": {
      "text/plain": [
       "dict_keys(['_id', 'intents', 'entities', 'input', 'output', 'context', 'user_id', 'chatId', 'type', 'content', 'options', 'sentMessageId'])"
      ]
     },
     "execution_count": 303,
     "metadata": {},
     "output_type": "execute_result"
    }
   ],
   "source": [
    "dados[0].keys()"
   ]
  },
  {
   "cell_type": "code",
   "execution_count": 227,
   "metadata": {},
   "outputs": [
    {
     "data": {
      "text/plain": [
       "dict_values(['feedback_positivo', 1])"
      ]
     },
     "execution_count": 227,
     "metadata": {},
     "output_type": "execute_result"
    }
   ],
   "source": [
    "dados[0]['intents'][0].values()"
   ]
  },
  {
   "cell_type": "code",
   "execution_count": 236,
   "metadata": {},
   "outputs": [
    {
     "data": {
      "text/plain": [
       "'feedback_positivo'"
      ]
     },
     "execution_count": 236,
     "metadata": {},
     "output_type": "execute_result"
    }
   ],
   "source": [
    "dados[0]['intents'][0]['intent']"
   ]
  },
  {
   "cell_type": "code",
   "execution_count": 304,
   "metadata": {},
   "outputs": [
    {
     "data": {
      "text/plain": [
       "['Muito boa',\n",
       " 'Olá',\n",
       " 'Tudo bem?',\n",
       " 'Estou triste',\n",
       " 'Kkkkkkkkkkkkk muito bom!',\n",
       " 'Tchau!',\n",
       " 'Olá',\n",
       " 'Tudo bem?',\n",
       " 'Estou ótimo',\n",
       " 'Qual seu nome?',\n",
       " 'Muito bom',\n",
       " '/start',\n",
       " 'Oi',\n",
       " 'Tudo bem?',\n",
       " 'Gostaria de saber da cotação da MXFR11 do dia',\n",
       " 'Bom dia!',\n",
       " 'Me conte uma piada',\n",
       " '/start',\n",
       " 'Oiiii',\n",
       " 'Ah massaaa',\n",
       " 'Suco de guarana',\n",
       " 'oi',\n",
       " 'qual seu nome?',\n",
       " 'me conte uma piada',\n",
       " 'muito bom!']"
      ]
     },
     "execution_count": 304,
     "metadata": {},
     "output_type": "execute_result"
    }
   ],
   "source": [
    "inputs = []\n",
    "for i in range(len(dados)):\n",
    "    inputs.append(dados[i]['input']['text'])\n",
    "inputs"
   ]
  },
  {
   "cell_type": "code",
   "execution_count": 370,
   "metadata": {},
   "outputs": [
    {
     "ename": "IndexError",
     "evalue": "list index out of range",
     "output_type": "error",
     "traceback": [
      "\u001b[1;31m---------------------------------------------------------------------------\u001b[0m",
      "\u001b[1;31mIndexError\u001b[0m                                Traceback (most recent call last)",
      "\u001b[1;32m<ipython-input-370-ff7c5cad3ac3>\u001b[0m in \u001b[0;36m<module>\u001b[1;34m\u001b[0m\n\u001b[1;32m----> 1\u001b[1;33m \u001b[0mdados\u001b[0m\u001b[1;33m[\u001b[0m\u001b[1;36m11\u001b[0m\u001b[1;33m]\u001b[0m\u001b[1;33m[\u001b[0m\u001b[1;34m'intents'\u001b[0m\u001b[1;33m]\u001b[0m\u001b[1;33m[\u001b[0m\u001b[1;36m0\u001b[0m\u001b[1;33m]\u001b[0m\u001b[1;33m[\u001b[0m\u001b[1;34m'intent'\u001b[0m\u001b[1;33m]\u001b[0m\u001b[1;33m\u001b[0m\u001b[1;33m\u001b[0m\u001b[0m\n\u001b[0m",
      "\u001b[1;31mIndexError\u001b[0m: list index out of range"
     ]
    }
   ],
   "source": [
    "dados[11]['intents'][0]['intent']"
   ]
  },
  {
   "cell_type": "code",
   "execution_count": 373,
   "metadata": {},
   "outputs": [
    {
     "data": {
      "text/plain": [
       "25"
      ]
     },
     "execution_count": 373,
     "metadata": {},
     "output_type": "execute_result"
    }
   ],
   "source": [
    "intents = []\n",
    "for i in range(len(dados)):\n",
    "    try:\n",
    "        intents.append(dados[i]['intents'][0]['intent'])\n",
    "    except:\n",
    "        intents.append('null')\n",
    "len(intents)"
   ]
  },
  {
   "cell_type": "code",
   "execution_count": 383,
   "metadata": {},
   "outputs": [
    {
     "data": {
      "text/plain": [
       "25"
      ]
     },
     "execution_count": 383,
     "metadata": {},
     "output_type": "execute_result"
    }
   ],
   "source": [
    "outputs = []\n",
    "for i in range(len(dados)):\n",
    "    outputs.append(dados[i]['output']['text'][0])\n",
    "len(outputs)"
   ]
  },
  {
   "cell_type": "code",
   "execution_count": 381,
   "metadata": {},
   "outputs": [
    {
     "data": {
      "text/plain": [
       "25"
      ]
     },
     "execution_count": 381,
     "metadata": {},
     "output_type": "execute_result"
    }
   ],
   "source": [
    "confidence = []\n",
    "for i in range(len(dados)):\n",
    "    try:\n",
    "        confidence.append(dados[i]['intents'][0]['confidence'])\n",
    "    except:\n",
    "        confidence.append(0)\n",
    "len(confidence)"
   ]
  },
  {
   "cell_type": "code",
   "execution_count": 384,
   "metadata": {
    "scrolled": true
   },
   "outputs": [
    {
     "data": {
      "text/html": [
       "<div>\n",
       "<style scoped>\n",
       "    .dataframe tbody tr th:only-of-type {\n",
       "        vertical-align: middle;\n",
       "    }\n",
       "\n",
       "    .dataframe tbody tr th {\n",
       "        vertical-align: top;\n",
       "    }\n",
       "\n",
       "    .dataframe thead th {\n",
       "        text-align: right;\n",
       "    }\n",
       "</style>\n",
       "<table border=\"1\" class=\"dataframe\">\n",
       "  <thead>\n",
       "    <tr style=\"text-align: right;\">\n",
       "      <th></th>\n",
       "      <th>intencoes acionadas</th>\n",
       "      <th>confianca</th>\n",
       "      <th>inputs</th>\n",
       "      <th>outputs</th>\n",
       "    </tr>\n",
       "  </thead>\n",
       "  <tbody>\n",
       "    <tr>\n",
       "      <th>0</th>\n",
       "      <td>feedback_positivo</td>\n",
       "      <td>1.000000</td>\n",
       "      <td>Muito boa</td>\n",
       "      <td>Obrigado! Fico feliz.</td>\n",
       "    </tr>\n",
       "    <tr>\n",
       "      <th>1</th>\n",
       "      <td>General_Greetings</td>\n",
       "      <td>0.762173</td>\n",
       "      <td>Olá</td>\n",
       "      <td>Olá! :)</td>\n",
       "    </tr>\n",
       "    <tr>\n",
       "      <th>2</th>\n",
       "      <td>bot_responde</td>\n",
       "      <td>1.000000</td>\n",
       "      <td>Tudo bem?</td>\n",
       "      <td>Estou bem! :) E você, como está se sentindo?</td>\n",
       "    </tr>\n",
       "    <tr>\n",
       "      <th>3</th>\n",
       "      <td>esta_mal</td>\n",
       "      <td>1.000000</td>\n",
       "      <td>Estou triste</td>\n",
       "      <td>Poxa que pena!\\nVou contar uma piada...\\nEm um...</td>\n",
       "    </tr>\n",
       "    <tr>\n",
       "      <th>4</th>\n",
       "      <td>feedback_positivo</td>\n",
       "      <td>0.921538</td>\n",
       "      <td>Kkkkkkkkkkkkk muito bom!</td>\n",
       "      <td>Fico feliz em ajudar. &lt;3</td>\n",
       "    </tr>\n",
       "    <tr>\n",
       "      <th>5</th>\n",
       "      <td>General_Ending</td>\n",
       "      <td>0.750878</td>\n",
       "      <td>Tchau!</td>\n",
       "      <td>Até mais, nos vemos em breve!</td>\n",
       "    </tr>\n",
       "    <tr>\n",
       "      <th>6</th>\n",
       "      <td>General_Greetings</td>\n",
       "      <td>0.762173</td>\n",
       "      <td>Olá</td>\n",
       "      <td>Olá! :)</td>\n",
       "    </tr>\n",
       "    <tr>\n",
       "      <th>7</th>\n",
       "      <td>bot_responde</td>\n",
       "      <td>1.000000</td>\n",
       "      <td>Tudo bem?</td>\n",
       "      <td>Estou bem! :) E você, como está se sentindo?</td>\n",
       "    </tr>\n",
       "    <tr>\n",
       "      <th>8</th>\n",
       "      <td>esta_bem</td>\n",
       "      <td>1.000000</td>\n",
       "      <td>Estou ótimo</td>\n",
       "      <td>Que bom, fico feliz por você! &lt;3</td>\n",
       "    </tr>\n",
       "    <tr>\n",
       "      <th>9</th>\n",
       "      <td>nome_bot</td>\n",
       "      <td>1.000000</td>\n",
       "      <td>Qual seu nome?</td>\n",
       "      <td>Me chamo Mr. Robot, sou um assistente virtual ...</td>\n",
       "    </tr>\n",
       "    <tr>\n",
       "      <th>10</th>\n",
       "      <td>feedback_positivo</td>\n",
       "      <td>1.000000</td>\n",
       "      <td>Muito bom</td>\n",
       "      <td>Nossa muito obrigado, fico feliz que tenha gos...</td>\n",
       "    </tr>\n",
       "    <tr>\n",
       "      <th>11</th>\n",
       "      <td>null</td>\n",
       "      <td>0.000000</td>\n",
       "      <td>/start</td>\n",
       "      <td>Eu não entendi. Você pode tentar reformular a ...</td>\n",
       "    </tr>\n",
       "    <tr>\n",
       "      <th>12</th>\n",
       "      <td>General_Greetings</td>\n",
       "      <td>0.406600</td>\n",
       "      <td>Oi</td>\n",
       "      <td>Olá! :)</td>\n",
       "    </tr>\n",
       "    <tr>\n",
       "      <th>13</th>\n",
       "      <td>bot_responde</td>\n",
       "      <td>1.000000</td>\n",
       "      <td>Tudo bem?</td>\n",
       "      <td>Estou bem! :) E você, como está se sentindo?</td>\n",
       "    </tr>\n",
       "    <tr>\n",
       "      <th>14</th>\n",
       "      <td>General_Greetings</td>\n",
       "      <td>0.618034</td>\n",
       "      <td>Gostaria de saber da cotação da MXFR11 do dia</td>\n",
       "      <td>Olá! :)</td>\n",
       "    </tr>\n",
       "    <tr>\n",
       "      <th>15</th>\n",
       "      <td>General_Greetings</td>\n",
       "      <td>0.893909</td>\n",
       "      <td>Bom dia!</td>\n",
       "      <td>Olá! :)</td>\n",
       "    </tr>\n",
       "    <tr>\n",
       "      <th>16</th>\n",
       "      <td>piadas</td>\n",
       "      <td>1.000000</td>\n",
       "      <td>Me conte uma piada</td>\n",
       "      <td>Um rapaz chegou num velório e a primeira coisa...</td>\n",
       "    </tr>\n",
       "    <tr>\n",
       "      <th>17</th>\n",
       "      <td>null</td>\n",
       "      <td>0.000000</td>\n",
       "      <td>/start</td>\n",
       "      <td>Você pode reformular sua afirmação? Eu não est...</td>\n",
       "    </tr>\n",
       "    <tr>\n",
       "      <th>18</th>\n",
       "      <td>null</td>\n",
       "      <td>0.000000</td>\n",
       "      <td>Oiiii</td>\n",
       "      <td>Eu não entendi o sentido.</td>\n",
       "    </tr>\n",
       "    <tr>\n",
       "      <th>19</th>\n",
       "      <td>null</td>\n",
       "      <td>0.000000</td>\n",
       "      <td>Ah massaaa</td>\n",
       "      <td>Eu não entendi. Você pode tentar reformular a ...</td>\n",
       "    </tr>\n",
       "    <tr>\n",
       "      <th>20</th>\n",
       "      <td>null</td>\n",
       "      <td>0.000000</td>\n",
       "      <td>Suco de guarana</td>\n",
       "      <td>Você pode reformular sua afirmação? Eu não est...</td>\n",
       "    </tr>\n",
       "    <tr>\n",
       "      <th>21</th>\n",
       "      <td>General_Greetings</td>\n",
       "      <td>0.406600</td>\n",
       "      <td>oi</td>\n",
       "      <td>Olá! :)</td>\n",
       "    </tr>\n",
       "    <tr>\n",
       "      <th>22</th>\n",
       "      <td>nome_bot</td>\n",
       "      <td>1.000000</td>\n",
       "      <td>qual seu nome?</td>\n",
       "      <td>Me chamo Mr. Robot, sou um assistente virtual ...</td>\n",
       "    </tr>\n",
       "    <tr>\n",
       "      <th>23</th>\n",
       "      <td>piadas</td>\n",
       "      <td>1.000000</td>\n",
       "      <td>me conte uma piada</td>\n",
       "      <td>Um rapaz chegou num velório e a primeira coisa...</td>\n",
       "    </tr>\n",
       "    <tr>\n",
       "      <th>24</th>\n",
       "      <td>feedback_positivo</td>\n",
       "      <td>1.000000</td>\n",
       "      <td>muito bom!</td>\n",
       "      <td>Que bom, fico feliz que gostou! &lt;3</td>\n",
       "    </tr>\n",
       "  </tbody>\n",
       "</table>\n",
       "</div>"
      ],
      "text/plain": [
       "   intencoes acionadas  confianca  \\\n",
       "0    feedback_positivo   1.000000   \n",
       "1    General_Greetings   0.762173   \n",
       "2         bot_responde   1.000000   \n",
       "3             esta_mal   1.000000   \n",
       "4    feedback_positivo   0.921538   \n",
       "5       General_Ending   0.750878   \n",
       "6    General_Greetings   0.762173   \n",
       "7         bot_responde   1.000000   \n",
       "8             esta_bem   1.000000   \n",
       "9             nome_bot   1.000000   \n",
       "10   feedback_positivo   1.000000   \n",
       "11                null   0.000000   \n",
       "12   General_Greetings   0.406600   \n",
       "13        bot_responde   1.000000   \n",
       "14   General_Greetings   0.618034   \n",
       "15   General_Greetings   0.893909   \n",
       "16              piadas   1.000000   \n",
       "17                null   0.000000   \n",
       "18                null   0.000000   \n",
       "19                null   0.000000   \n",
       "20                null   0.000000   \n",
       "21   General_Greetings   0.406600   \n",
       "22            nome_bot   1.000000   \n",
       "23              piadas   1.000000   \n",
       "24   feedback_positivo   1.000000   \n",
       "\n",
       "                                           inputs  \\\n",
       "0                                       Muito boa   \n",
       "1                                             Olá   \n",
       "2                                       Tudo bem?   \n",
       "3                                    Estou triste   \n",
       "4                        Kkkkkkkkkkkkk muito bom!   \n",
       "5                                          Tchau!   \n",
       "6                                             Olá   \n",
       "7                                       Tudo bem?   \n",
       "8                                     Estou ótimo   \n",
       "9                                  Qual seu nome?   \n",
       "10                                      Muito bom   \n",
       "11                                         /start   \n",
       "12                                             Oi   \n",
       "13                                      Tudo bem?   \n",
       "14  Gostaria de saber da cotação da MXFR11 do dia   \n",
       "15                                       Bom dia!   \n",
       "16                             Me conte uma piada   \n",
       "17                                         /start   \n",
       "18                                          Oiiii   \n",
       "19                                     Ah massaaa   \n",
       "20                                Suco de guarana   \n",
       "21                                             oi   \n",
       "22                                 qual seu nome?   \n",
       "23                             me conte uma piada   \n",
       "24                                     muito bom!   \n",
       "\n",
       "                                              outputs  \n",
       "0                               Obrigado! Fico feliz.  \n",
       "1                                             Olá! :)  \n",
       "2        Estou bem! :) E você, como está se sentindo?  \n",
       "3   Poxa que pena!\\nVou contar uma piada...\\nEm um...  \n",
       "4                            Fico feliz em ajudar. <3  \n",
       "5                       Até mais, nos vemos em breve!  \n",
       "6                                             Olá! :)  \n",
       "7        Estou bem! :) E você, como está se sentindo?  \n",
       "8                    Que bom, fico feliz por você! <3  \n",
       "9   Me chamo Mr. Robot, sou um assistente virtual ...  \n",
       "10  Nossa muito obrigado, fico feliz que tenha gos...  \n",
       "11  Eu não entendi. Você pode tentar reformular a ...  \n",
       "12                                            Olá! :)  \n",
       "13       Estou bem! :) E você, como está se sentindo?  \n",
       "14                                            Olá! :)  \n",
       "15                                            Olá! :)  \n",
       "16  Um rapaz chegou num velório e a primeira coisa...  \n",
       "17  Você pode reformular sua afirmação? Eu não est...  \n",
       "18                          Eu não entendi o sentido.  \n",
       "19  Eu não entendi. Você pode tentar reformular a ...  \n",
       "20  Você pode reformular sua afirmação? Eu não est...  \n",
       "21                                            Olá! :)  \n",
       "22  Me chamo Mr. Robot, sou um assistente virtual ...  \n",
       "23  Um rapaz chegou num velório e a primeira coisa...  \n",
       "24                 Que bom, fico feliz que gostou! <3  "
      ]
     },
     "execution_count": 384,
     "metadata": {},
     "output_type": "execute_result"
    }
   ],
   "source": [
    "df = pd.DataFrame(data={'intencoes acionadas': intents, 'confianca': confidence,'inputs': inputs, 'outputs': outputs})\n",
    "df"
   ]
  },
  {
   "cell_type": "code",
   "execution_count": 3,
   "metadata": {},
   "outputs": [
    {
     "ename": "NameError",
     "evalue": "name 'df' is not defined",
     "output_type": "error",
     "traceback": [
      "\u001b[1;31m---------------------------------------------------------------------------\u001b[0m",
      "\u001b[1;31mNameError\u001b[0m                                 Traceback (most recent call last)",
      "\u001b[1;32m<ipython-input-3-6bfd5e501906>\u001b[0m in \u001b[0;36m<module>\u001b[1;34m\u001b[0m\n\u001b[1;32m----> 1\u001b[1;33m \u001b[0mdf\u001b[0m\u001b[1;33m[\u001b[0m\u001b[1;34m'intencoes acionadas'\u001b[0m\u001b[1;33m]\u001b[0m\u001b[1;33m.\u001b[0m\u001b[0mvalue_counts\u001b[0m\u001b[1;33m(\u001b[0m\u001b[1;33m)\u001b[0m\u001b[1;33m.\u001b[0m\u001b[0mhead\u001b[0m\u001b[1;33m(\u001b[0m\u001b[1;33m)\u001b[0m\u001b[1;33m\u001b[0m\u001b[1;33m\u001b[0m\u001b[0m\n\u001b[0m",
      "\u001b[1;31mNameError\u001b[0m: name 'df' is not defined"
     ]
    }
   ],
   "source": [
    "df['intencoes acionadas'].value_counts().head()"
   ]
  },
  {
   "cell_type": "code",
   "execution_count": 2,
   "metadata": {},
   "outputs": [
    {
     "ename": "NameError",
     "evalue": "name 'df' is not defined",
     "output_type": "error",
     "traceback": [
      "\u001b[1;31m---------------------------------------------------------------------------\u001b[0m",
      "\u001b[1;31mNameError\u001b[0m                                 Traceback (most recent call last)",
      "\u001b[1;32m<ipython-input-2-e1fddc95a875>\u001b[0m in \u001b[0;36m<module>\u001b[1;34m\u001b[0m\n\u001b[1;32m----> 1\u001b[1;33m \u001b[0mdf\u001b[0m\u001b[1;33m[\u001b[0m\u001b[0mdf\u001b[0m\u001b[1;33m[\u001b[0m\u001b[1;34m'confianca'\u001b[0m\u001b[1;33m]\u001b[0m \u001b[1;33m<\u001b[0m \u001b[1;36m0.5\u001b[0m\u001b[1;33m]\u001b[0m\u001b[1;33m\u001b[0m\u001b[1;33m\u001b[0m\u001b[0m\n\u001b[0m",
      "\u001b[1;31mNameError\u001b[0m: name 'df' is not defined"
     ]
    }
   ],
   "source": [
    "df[df['confianca'] < 0.5]"
   ]
  },
  {
   "cell_type": "code",
   "execution_count": null,
   "metadata": {},
   "outputs": [],
   "source": []
  }
 ],
 "metadata": {
  "kernelspec": {
   "display_name": "Python 3",
   "language": "python",
   "name": "python3"
  },
  "language_info": {
   "codemirror_mode": {
    "name": "ipython",
    "version": 3
   },
   "file_extension": ".py",
   "mimetype": "text/x-python",
   "name": "python",
   "nbconvert_exporter": "python",
   "pygments_lexer": "ipython3",
   "version": "3.8.5"
  }
 },
 "nbformat": 4,
 "nbformat_minor": 4
}
